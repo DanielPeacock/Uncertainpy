{
 "cells": [
  {
   "cell_type": "markdown",
   "id": "9eb46009",
   "metadata": {},
   "source": [
    "# Instructions\n",
    "\n",
    "In order to use the notebook, you need to install Gurobi and get a license (academic licenses are free)\n",
    "https://www.gurobi.com/academia/academic-program-and-licenses/\n",
    "\n",
    "Furthermore, your Python environment requires the packages\n",
    "- numpy \n",
    "- scipy\n",
    "- gurobipy\n",
    "\n",
    "If you get an error message stating that you do not have a license, you may have to replace the default Gurobi license file in your environment by the license file created by your Gurobi installation  "
   ]
  },
  {
   "cell_type": "code",
   "execution_count": 2,
   "id": "cd03d0ed",
   "metadata": {},
   "outputs": [],
   "source": [
    "import uncertainpy.propositional\n",
    "\n",
    "from uncertainpy.propositional.syntax import *\n",
    "from uncertainpy.propositional.semantics import *\n",
    "\n",
    "from uncertainpy.probability.probEntailment import *"
   ]
  },
  {
   "cell_type": "markdown",
   "id": "64260d15",
   "metadata": {},
   "source": [
    "# Example 1\n",
    "\n",
    "Create a small knowledge base and answer a query"
   ]
  },
  {
   "cell_type": "code",
   "execution_count": 7,
   "id": "65bbe141",
   "metadata": {},
   "outputs": [],
   "source": [
    "#Create some atoms\n",
    "a = BooleanAtom('A')\n",
    "b = BooleanAtom('B')\n",
    "c = BooleanAtom('C')\n",
    "\n",
    "#Create a knowledge base\n",
    "kb = list()\n",
    "kb.append(Conditional(a, None, 0.8, 0.9))\n",
    "kb.append(Conditional(b, a, 0.8, 0.9))\n",
    "kb.append(Conditional(c, b, 0.8, 0.9))\n",
    "\n",
    "#Create an object that manages interpretations\n",
    "ints = BooleanInterpretation([a,b,c])"
   ]
  },
  {
   "cell_type": "code",
   "execution_count": 8,
   "id": "9917e700",
   "metadata": {},
   "outputs": [
    {
     "name": "stdout",
     "output_type": "stream",
     "text": [
      "Create lower constraint for (A)[0.8, 0.9]\n",
      "Create lower constraint for (B|A)[0.8, 0.9]\n",
      "Create lower constraint for (C|B)[0.8, 0.9]\n",
      "Create upper constraint for (A)[0.8, 0.9]\n",
      "Create upper constraint for (B|A)[0.8, 0.9]\n",
      "Create upper constraint for (C|B)[0.8, 0.9]\n"
     ]
    }
   ],
   "source": [
    "#initialize the reasoning engine with the knowledge base\n",
    "pent = ProbEntailmentEngine()\n",
    "pent.createConstraints(kb, ints)"
   ]
  },
  {
   "cell_type": "code",
   "execution_count": 9,
   "id": "4638395d",
   "metadata": {},
   "outputs": [
    {
     "name": "stdout",
     "output_type": "stream",
     "text": [
      "Gurobi Optimizer version 9.1.1 build v9.1.1rc0 (win64)\n",
      "Thread count: 6 physical cores, 12 logical processors, using up to 12 threads\n",
      "Optimize a model with 8 rows, 15 columns and 55 nonzeros\n",
      "Model fingerprint: 0xb044197d\n",
      "Coefficient statistics:\n",
      "  Matrix range     [1e-01, 1e+00]\n",
      "  Objective range  [1e+00, 1e+00]\n",
      "  Bounds range     [0e+00, 0e+00]\n",
      "  RHS range        [1e+00, 1e+00]\n",
      "Presolve removed 1 rows and 9 columns\n",
      "Presolve time: 0.00s\n",
      "Presolved: 7 rows, 6 columns, 32 nonzeros\n",
      "\n",
      "Iteration    Objective       Primal Inf.    Dual Inf.      Time\n",
      "       0    0.0000000e+00   8.000000e-01   0.000000e+00      0s\n",
      "       3    5.1200000e-01   0.000000e+00   0.000000e+00      0s\n",
      "\n",
      "Solved in 3 iterations and 0.01 seconds\n",
      "Optimal objective  5.120000000e-01\n",
      "[0.2        0.16       0.         0.128      0.         0.\n",
      " 0.         0.512      0.         0.         0.         0.09999999\n",
      " 0.08       0.064      1.        ]\n",
      "Gurobi Optimizer version 9.1.1 build v9.1.1rc0 (win64)\n",
      "Thread count: 6 physical cores, 12 logical processors, using up to 12 threads\n",
      "Optimize a model with 8 rows, 15 columns and 55 nonzeros\n",
      "Coefficient statistics:\n",
      "  Matrix range     [1e-01, 1e+00]\n",
      "  Objective range  [1e+00, 1e+00]\n",
      "  Bounds range     [0e+00, 0e+00]\n",
      "  RHS range        [1e+00, 1e+00]\n",
      "Iteration    Objective       Primal Inf.    Dual Inf.      Time\n",
      "       0    6.0400000e+30   9.560000e+30   6.040000e+00      0s\n",
      "      10    9.3600000e-01   0.000000e+00   0.000000e+00      0s\n",
      "\n",
      "Solved in 10 iterations and 0.01 seconds\n",
      "Optimal objective  9.359999976e-01\n",
      "kb |= (C)[0.512, 0.9359999976158142]\n"
     ]
    },
    {
     "data": {
      "text/plain": [
       "(<uncertainpy.probability.distribution.ProbabilityDist at 0x279f1224490>,\n",
       " <uncertainpy.probability.distribution.ProbabilityDist at 0x279f0ac9610>)"
      ]
     },
     "execution_count": 9,
     "metadata": {},
     "output_type": "execute_result"
    }
   ],
   "source": [
    "#after initialization, you can ask queries\n",
    "#Queries are represented as conditionals of the form (b|a)[l,u] (Conditional(b,a,l,u))\n",
    "query = Conditional(c, None, None, None)\n",
    "\n",
    "#computeBounds initializes the query object with derived lower and upper bounds (and also returns it) \n",
    "pent.computeBounds(query)"
   ]
  },
  {
   "cell_type": "code",
   "execution_count": 10,
   "id": "d991fde2",
   "metadata": {},
   "outputs": [
    {
     "name": "stdout",
     "output_type": "stream",
     "text": [
      "(C)[0.512, 0.9359999976158142]\n"
     ]
    }
   ],
   "source": [
    "#print the conditional with derived probabilities\n",
    "print(query)"
   ]
  },
  {
   "cell_type": "markdown",
   "id": "aa286221",
   "metadata": {},
   "source": [
    "# Example 2\n",
    "\n",
    "Create larger knowledge bases to test runtime performance"
   ]
  },
  {
   "cell_type": "code",
   "execution_count": 12,
   "id": "8524d79d",
   "metadata": {},
   "outputs": [
    {
     "name": "stdout",
     "output_type": "stream",
     "text": [
      "Knowledge Base:\n",
      "(a0)[0.8, 0.9]\n",
      "(a1|a0)[0.8, 0.9]\n",
      "(a2|a1)[0.8, 0.9]\n",
      "(a3|a2)[0.8, 0.9]\n",
      "(a4|a3)[0.8, 0.9]\n",
      "(a5|a4)[0.8, 0.9]\n",
      "(a6|a5)[0.8, 0.9]\n",
      "(a7|a6)[0.8, 0.9]\n",
      "(a8|a7)[0.8, 0.9]\n",
      "(a9|a8)[0.8, 0.9]\n",
      "(a10|a9)[0.8, 0.9]\n",
      "(a11|a10)[0.8, 0.9]\n",
      "(a12|a11)[0.8, 0.9]\n",
      "(a13|a12)[0.8, 0.9]\n",
      "(a14|a13)[0.8, 0.9]\n",
      "Create lower constraint for (a0)[0.8, 0.9]\n",
      "Create lower constraint for (a1|a0)[0.8, 0.9]\n",
      "Create lower constraint for (a2|a1)[0.8, 0.9]\n",
      "Create lower constraint for (a3|a2)[0.8, 0.9]\n",
      "Create lower constraint for (a4|a3)[0.8, 0.9]\n",
      "Create lower constraint for (a5|a4)[0.8, 0.9]\n",
      "Create lower constraint for (a6|a5)[0.8, 0.9]\n",
      "Create lower constraint for (a7|a6)[0.8, 0.9]\n",
      "Create lower constraint for (a8|a7)[0.8, 0.9]\n",
      "Create lower constraint for (a9|a8)[0.8, 0.9]\n",
      "Create lower constraint for (a10|a9)[0.8, 0.9]\n",
      "Create lower constraint for (a11|a10)[0.8, 0.9]\n",
      "Create lower constraint for (a12|a11)[0.8, 0.9]\n",
      "Create lower constraint for (a13|a12)[0.8, 0.9]\n",
      "Create lower constraint for (a14|a13)[0.8, 0.9]\n",
      "Create upper constraint for (a0)[0.8, 0.9]\n",
      "Create upper constraint for (a1|a0)[0.8, 0.9]\n",
      "Create upper constraint for (a2|a1)[0.8, 0.9]\n",
      "Create upper constraint for (a3|a2)[0.8, 0.9]\n",
      "Create upper constraint for (a4|a3)[0.8, 0.9]\n",
      "Create upper constraint for (a5|a4)[0.8, 0.9]\n",
      "Create upper constraint for (a6|a5)[0.8, 0.9]\n",
      "Create upper constraint for (a7|a6)[0.8, 0.9]\n",
      "Create upper constraint for (a8|a7)[0.8, 0.9]\n",
      "Create upper constraint for (a9|a8)[0.8, 0.9]\n",
      "Create upper constraint for (a10|a9)[0.8, 0.9]\n",
      "Create upper constraint for (a11|a10)[0.8, 0.9]\n",
      "Create upper constraint for (a12|a11)[0.8, 0.9]\n",
      "Create upper constraint for (a13|a12)[0.8, 0.9]\n",
      "Create upper constraint for (a14|a13)[0.8, 0.9]\n"
     ]
    }
   ],
   "source": [
    "noAtoms = 15\n",
    "atoms = []\n",
    "for i in range(noAtoms):\n",
    "    atoms.append(BooleanAtom(f\"a{i}\"))\n",
    "    \n",
    "#Create a simple knowledge base where one atom entails the next\n",
    "kb = list()\n",
    "kb.append(Conditional(atoms[0], None, 0.8, 0.9))\n",
    "for i in range(noAtoms-1):\n",
    "    kb.append(Conditional(atoms[i+1], atoms[i], 0.8, 0.9))\n",
    "    \n",
    "print(\"Knowledge Base:\")\n",
    "for cond in kb:\n",
    "    print(cond)\n",
    "    \n",
    "#Create an object that manages interpretations\n",
    "ints = BooleanInterpretation(atoms)\n",
    "\n",
    "#use ProbEntailmentEngine to set up and solve the reasoning problem. \n",
    "pent = ProbEntailmentEngine()\n",
    "pent.createConstraints(kb, ints)"
   ]
  },
  {
   "cell_type": "code",
   "execution_count": 14,
   "id": "57bb1108",
   "metadata": {},
   "outputs": [
    {
     "name": "stdout",
     "output_type": "stream",
     "text": [
      "Gurobi Optimizer version 9.1.1 build v9.1.1rc0 (win64)\n",
      "Thread count: 6 physical cores, 12 logical processors, using up to 12 threads\n",
      "Optimize a model with 33 rows, 32799 columns and 622623 nonzeros\n",
      "Coefficient statistics:\n",
      "  Matrix range     [1e-01, 1e+00]\n",
      "  Objective range  [1e+00, 1e+00]\n",
      "  Bounds range     [0e+00, 0e+00]\n",
      "  RHS range        [1e+00, 1e+00]\n",
      "Iteration    Objective       Primal Inf.    Dual Inf.      Time\n",
      "       0   -1.2064298e+34   5.940358e+34   1.206430e+04      0s\n",
      "     225    3.5184372e-02   0.000000e+00   0.000000e+00      0s\n",
      "\n",
      "Solved in 225 iterations and 0.13 seconds\n",
      "Optimal objective  3.518437209e-02\n",
      "[0.2        0.16       0.         ... 0.00549756 0.00439805 1.        ]\n",
      "Gurobi Optimizer version 9.1.1 build v9.1.1rc0 (win64)\n",
      "Thread count: 6 physical cores, 12 logical processors, using up to 12 threads\n",
      "Optimize a model with 33 rows, 32799 columns and 622623 nonzeros\n",
      "Coefficient statistics:\n",
      "  Matrix range     [1e-01, 1e+00]\n",
      "  Objective range  [1e+00, 1e+00]\n",
      "  Bounds range     [0e+00, 0e+00]\n",
      "  RHS range        [1e+00, 1e+00]\n",
      "Iteration    Objective       Primal Inf.    Dual Inf.      Time\n",
      "       0    3.9163384e+34   5.553428e+34   3.916338e+04      0s\n",
      "     363    9.9560195e-01   0.000000e+00   0.000000e+00      0s\n",
      "\n",
      "Solved in 363 iterations and 0.14 seconds\n",
      "Optimal objective  9.956019533e-01\n",
      "kb |= (a14)[0.03518437208883202, 0.995601953325056]\n"
     ]
    },
    {
     "data": {
      "text/plain": [
       "(<uncertainpy.probability.distribution.ProbabilityDist at 0x279f121b2e0>,\n",
       " <uncertainpy.probability.distribution.ProbabilityDist at 0x279f0afbdf0>)"
      ]
     },
     "execution_count": 14,
     "metadata": {},
     "output_type": "execute_result"
    }
   ],
   "source": [
    "#query the probability of the last atom \n",
    "query = Conditional(atoms[-1], None, None, None)\n",
    "\n",
    "#computeBounds initializes the query object with derived lower and upper bounds (and also returns it) \n",
    "pent.computeBounds(query)"
   ]
  },
  {
   "cell_type": "code",
   "execution_count": 15,
   "id": "0ad3c236",
   "metadata": {},
   "outputs": [
    {
     "name": "stdout",
     "output_type": "stream",
     "text": [
      "(a14)[0.03518437208883202, 0.995601953325056]\n"
     ]
    }
   ],
   "source": [
    "print(query)"
   ]
  },
  {
   "cell_type": "code",
   "execution_count": null,
   "id": "a0f5bca1",
   "metadata": {},
   "outputs": [],
   "source": []
  },
  {
   "cell_type": "code",
   "execution_count": null,
   "id": "8823ac55",
   "metadata": {},
   "outputs": [],
   "source": []
  }
 ],
 "metadata": {
  "kernelspec": {
   "display_name": "Python 3",
   "language": "python",
   "name": "python3"
  },
  "language_info": {
   "codemirror_mode": {
    "name": "ipython",
    "version": 3
   },
   "file_extension": ".py",
   "mimetype": "text/x-python",
   "name": "python",
   "nbconvert_exporter": "python",
   "pygments_lexer": "ipython3",
   "version": "3.8.8"
  }
 },
 "nbformat": 4,
 "nbformat_minor": 5
}
